{
 "cells": [
  {
   "cell_type": "markdown",
   "metadata": {},
   "source": [
    "What is Asrtropy?\n",
    "It is the library for Astronomyer made by Astronomers. It has all functionalities Astronomers may need.\n",
    "\n",
    "1. open fits files and dealing with Tabular Data as \"TOPCAT\"\n",
    "2. Has a queriy and VO package\n",
    "3. has photometric and spectroscopic packages \n",
    "4. fitting and statistical packages \n",
    "5. Cosmology, GR, Magnetohydeodynamics..........etc functions are there ready for use  "
   ]
  },
  {
   "cell_type": "code",
   "execution_count": 79,
   "metadata": {},
   "outputs": [
    {
     "name": "stdout",
     "output_type": "stream",
     "text": [
      "Requirement already satisfied: Astropy in c:\\users\\fatma\\anaconda3\\lib\\site-packages (4.0.1.post1)Note: you may need to restart the kernel to use updated packages.\n",
      "\n",
      "Requirement already satisfied: numpy>=1.16 in c:\\users\\fatma\\anaconda3\\lib\\site-packages (from Astropy) (1.18.5)\n"
     ]
    }
   ],
   "source": [
    "pip install Astropy "
   ]
  },
  {
   "cell_type": "code",
   "execution_count": 80,
   "metadata": {},
   "outputs": [],
   "source": [
    "import numpy as np \n",
    "import matplotlib.pyplot as plt"
   ]
  },
  {
   "cell_type": "code",
   "execution_count": 20,
   "metadata": {},
   "outputs": [],
   "source": [
    "from astropy.io import fits\n",
    "from astropy.table import Table\n",
    "from astropy.units import cds                   # adding the units to the values           \n",
    "cds.enable()\n",
    "from astropy import units as u\n",
    "from astropy.cosmology import WMAP9 as cosmo  "
   ]
  },
  {
   "cell_type": "code",
   "execution_count": 82,
   "metadata": {},
   "outputs": [],
   "source": [
    "Chandra=fits.open(\"dr7 vs Chandra.fits\")         #open function reads the file "
   ]
  },
  {
   "cell_type": "markdown",
   "metadata": {},
   "source": [
    "Each table consists of HDU: Header Data Units lists. \n",
    "HDU[0]: For the coloumn names \n",
    "HDU[1]: For the first row data "
   ]
  },
  {
   "cell_type": "code",
   "execution_count": 1,
   "metadata": {},
   "outputs": [
    {
     "ename": "NameError",
     "evalue": "name 'Table' is not defined",
     "output_type": "error",
     "traceback": [
      "\u001b[1;31m---------------------------------------------------------------------------\u001b[0m",
      "\u001b[1;31mNameError\u001b[0m                                 Traceback (most recent call last)",
      "\u001b[1;32m<ipython-input-1-c14e0701ac3d>\u001b[0m in \u001b[0;36m<module>\u001b[1;34m\u001b[0m\n\u001b[1;32m----> 1\u001b[1;33m \u001b[0mChan\u001b[0m\u001b[1;33m=\u001b[0m \u001b[0mTable\u001b[0m\u001b[1;33m(\u001b[0m\u001b[0mChandra\u001b[0m\u001b[1;33m[\u001b[0m\u001b[1;36m1\u001b[0m\u001b[1;33m]\u001b[0m\u001b[1;33m.\u001b[0m\u001b[0mdata\u001b[0m\u001b[1;33m)\u001b[0m\u001b[1;33m\u001b[0m\u001b[1;33m\u001b[0m\u001b[0m\n\u001b[0m\u001b[0;32m      2\u001b[0m \u001b[0mChan\u001b[0m\u001b[1;33m.\u001b[0m\u001b[0mshow\u001b[0m\u001b[1;33m(\u001b[0m\u001b[1;33m)\u001b[0m                      \u001b[1;31m#to open the table\u001b[0m\u001b[1;33m\u001b[0m\u001b[1;33m\u001b[0m\u001b[0m\n\u001b[0;32m      3\u001b[0m \u001b[1;31m#Chan.info()\u001b[0m\u001b[1;33m\u001b[0m\u001b[1;33m\u001b[0m\u001b[1;33m\u001b[0m\u001b[0m\n",
      "\u001b[1;31mNameError\u001b[0m: name 'Table' is not defined"
     ]
    }
   ],
   "source": [
    "Chan= Table(Chandra[1].data)  \n",
    "Chan.show()                      #to open the table \n",
    "#Chan.info()"
   ]
  },
  {
   "cell_type": "code",
   "execution_count": 138,
   "metadata": {},
   "outputs": [],
   "source": [
    "Z=Chan['REDSHIFT']                               #calling column parameters \n",
    "X=Chan['flux_aper_b']\n",
    "name=Chan['SDSS_NAME']\n",
    "RA=Chan['RA']\n",
    "DEC=Chan['DEC']\n",
    "#print(Z)"
   ]
  },
  {
   "cell_type": "code",
   "execution_count": 93,
   "metadata": {},
   "outputs": [
    {
     "name": "stderr",
     "output_type": "stream",
     "text": [
      "<ipython-input-93-16305ef174a6>:1: RuntimeWarning: divide by zero encountered in log\n",
      "  plt.scatter(Z,np.log(X))\n"
     ]
    },
    {
     "data": {
      "text/plain": [
       "<matplotlib.collections.PathCollection at 0x228fedd4520>"
      ]
     },
     "execution_count": 93,
     "metadata": {},
     "output_type": "execute_result"
    },
    {
     "data": {
      "image/png": "[encoded data removed]",
      "text/plain": [
       "<Figure size 432x288 with 1 Axes>"
      ]
     },
     "metadata": {
      "needs_background": "light"
     },
     "output_type": "display_data"
    }
   ],
   "source": [
    "plt.scatter(Z,np.log(X))"
   ]
  },
  {
   "cell_type": "markdown",
   "metadata": {},
   "source": [
    "2.Constants"
   ]
  },
  {
   "cell_type": "code",
   "execution_count": 94,
   "metadata": {},
   "outputs": [],
   "source": [
    "from astropy import constants as const"
   ]
  },
  {
   "cell_type": "code",
   "execution_count": 95,
   "metadata": {},
   "outputs": [
    {
     "data": {
      "text/latex": [
       "$6.6743 \\times 10^{-11} \\; \\mathrm{\\frac{m^{3}}{kg\\,s^{2}}}$"
      ],
      "text/plain": [
       "<<class 'astropy.constants.codata2018.CODATA2018'> name='Gravitational constant' value=6.6743e-11 uncertainty=1.5e-15 unit='m3 / (kg s2)' reference='CODATA 2018'>"
      ]
     },
     "execution_count": 95,
     "metadata": {},
     "output_type": "execute_result"
    }
   ],
   "source": [
    "const.G"
   ]
  },
  {
   "cell_type": "code",
   "execution_count": 96,
   "metadata": {},
   "outputs": [
    {
     "data": {
      "text/latex": [
       "$2.9979246 \\times 10^{8} \\; \\mathrm{\\frac{m}{s}}$"
      ],
      "text/plain": [
       "<<class 'astropy.constants.codata2018.CODATA2018'> name='Speed of light in vacuum' value=299792458.0 uncertainty=0.0 unit='m / s' reference='CODATA 2018'>"
      ]
     },
     "execution_count": 96,
     "metadata": {},
     "output_type": "execute_result"
    }
   ],
   "source": [
    "const.c"
   ]
  },
  {
   "cell_type": "code",
   "execution_count": 98,
   "metadata": {},
   "outputs": [
    {
     "data": {
      "text/plain": [
       "3.141592653589793"
      ]
     },
     "execution_count": 98,
     "metadata": {},
     "output_type": "execute_result"
    }
   ],
   "source": [
    "np.pi"
   ]
  },
  {
   "cell_type": "markdown",
   "metadata": {},
   "source": [
    "3. Units Conversion"
   ]
  },
  {
   "cell_type": "code",
   "execution_count": 99,
   "metadata": {},
   "outputs": [],
   "source": [
    "from astropy import units as u\n",
    "cms= u.cm/u.s                                     #velosity"
   ]
  },
  {
   "cell_type": "code",
   "execution_count": 100,
   "metadata": {},
   "outputs": [],
   "source": [
    "from astropy.units import imperial\n",
    "mph= u.imperial.mile/u.hour "
   ]
  },
  {
   "cell_type": "code",
   "execution_count": 102,
   "metadata": {},
   "outputs": [
    {
     "name": "stdout",
     "output_type": "stream",
     "text": [
      "24.0 cm / s\n"
     ]
    }
   ],
   "source": [
    "q=24*cms\n",
    "print(q)"
   ]
  },
  {
   "cell_type": "code",
   "execution_count": 103,
   "metadata": {},
   "outputs": [
    {
     "data": {
      "text/latex": [
       "$0.53686471 \\; \\mathrm{\\frac{mi}{h}}$"
      ],
      "text/plain": [
       "<Quantity 0.53686471 mi / h>"
      ]
     },
     "execution_count": 103,
     "metadata": {},
     "output_type": "execute_result"
    }
   ],
   "source": [
    "q.to(mph)"
   ]
  },
  {
   "cell_type": "code",
   "execution_count": 104,
   "metadata": {},
   "outputs": [
    {
     "data": {
      "text/latex": [
       "$0.30660139 \\; \\mathrm{\\frac{pc}{yr}}$"
      ],
      "text/plain": [
       "<Quantity 0.30660139 pc / yr>"
      ]
     },
     "execution_count": 104,
     "metadata": {},
     "output_type": "execute_result"
    }
   ],
   "source": [
    "const.c.to(\"pc/yr\")"
   ]
  },
  {
   "cell_type": "code",
   "execution_count": 105,
   "metadata": {},
   "outputs": [
    {
     "data": {
      "text/latex": [
       "$0.46875 \\; \\mathrm{\\frac{m}{s}}$"
      ],
      "text/plain": [
       "<Quantity 0.46875 m / s>"
      ]
     },
     "execution_count": 105,
     "metadata": {},
     "output_type": "execute_result"
    }
   ],
   "source": [
    "(15* u.m)/(32 *u.s)\n"
   ]
  },
  {
   "cell_type": "code",
   "execution_count": 106,
   "metadata": {},
   "outputs": [
    {
     "data": {
      "text/latex": [
       "$0.023076923 \\; \\mathrm{\\frac{km\\,s}{m}}$"
      ],
      "text/plain": [
       "<Quantity 0.02307692 km s / m>"
      ]
     },
     "execution_count": 106,
     "metadata": {},
     "output_type": "execute_result"
    }
   ],
   "source": [
    "(3* u.km)/(130* u.m/u.s)"
   ]
  },
  {
   "cell_type": "code",
   "execution_count": 107,
   "metadata": {},
   "outputs": [
    {
     "data": {
      "text/latex": [
       "$23.076923 \\; \\mathrm{s}$"
      ],
      "text/plain": [
       "<Quantity 23.07692308 s>"
      ]
     },
     "execution_count": 107,
     "metadata": {},
     "output_type": "execute_result"
    }
   ],
   "source": [
    "((3* u.km)/(130* u.m/u.s)).decompose()"
   ]
  },
  {
   "cell_type": "code",
   "execution_count": null,
   "metadata": {},
   "outputs": [],
   "source": []
  },
  {
   "cell_type": "markdown",
   "metadata": {},
   "source": [
    "4. Dealing with cosmological models"
   ]
  },
  {
   "cell_type": "markdown",
   "metadata": {},
   "source": [
    "Distance luminosity: \n",
    "The relationship between the absolute magnitude M and apparent magnitude m of an astronomical object.\n",
    "Or the relationship between the Luminosity and flux."
   ]
  },
  {
   "cell_type": "markdown",
   "metadata": {},
   "source": [
    "calcualte the luminousity using the flux(F) and the redshift(Z)"
   ]
  },
  {
   "cell_type": "code",
   "execution_count": 112,
   "metadata": {},
   "outputs": [
    {
     "data": {
      "text/latex": [
       "$2.1782809 \\; \\mathrm{Gyr}$"
      ],
      "text/plain": [
       "<Quantity 2.17828085 Gyr>"
      ]
     },
     "execution_count": 112,
     "metadata": {},
     "output_type": "execute_result"
    }
   ],
   "source": [
    "from astropy.cosmology import WMAP9 as cosmo\n",
    "cosmo.age(3)            # Input (redshift)"
   ]
  },
  {
   "cell_type": "code",
   "execution_count": 113,
   "metadata": {},
   "outputs": [
    {
     "name": "stdout",
     "output_type": "stream",
     "text": [
      "[18183.78176992 14438.37406244  4848.06686757 ...  5648.90894781\n",
      "  1935.19078326 16253.34218656] Mpc\n"
     ]
    }
   ],
   "source": [
    "DL= cosmo.luminosity_distance(Z)\n",
    "print(DL)"
   ]
  },
  {
   "cell_type": "code",
   "execution_count": 114,
   "metadata": {},
   "outputs": [],
   "source": [
    "from astropy import units as u                   #unit conversion from Megaparsec to cm \n",
    "DLL = (DL).to(u.cm)"
   ]
  },
  {
   "cell_type": "code",
   "execution_count": 130,
   "metadata": {},
   "outputs": [
    {
     "name": "stdout",
     "output_type": "stream",
     "text": [
      "[1.16824199e+44 1.16214821e+45 3.88577252e+44 ... 4.03878027e+44\n",
      " 3.40313218e+43 1.00153617e+45] erg / s\n"
     ]
    },
    {
     "name": "stderr",
     "output_type": "stream",
     "text": [
      "<ipython-input-130-1bff5c095e82>:3: RuntimeWarning: divide by zero encountered in log10\n",
      "  LL=np.log10(L.value)\n"
     ]
    },
    {
     "data": {
      "text/plain": [
       "2561"
      ]
     },
     "execution_count": 130,
     "metadata": {},
     "output_type": "execute_result"
    }
   ],
   "source": [
    "L= 4 *np.pi * np.power(DLL,2) *X * u.erg / u.s / u.cm**2   #xrays luminosity calculations \n",
    "print(L)\n",
    "LL=np.log10(L.value)\n",
    "len(LL)"
   ]
  },
  {
   "cell_type": "markdown",
   "metadata": {},
   "source": [
    "5. Save fits table "
   ]
  },
  {
   "cell_type": "code",
   "execution_count": 140,
   "metadata": {},
   "outputs": [],
   "source": [
    "c1 = fits.Column(name='Name', array=name, format='20A')\n",
    "c2 = fits.Column(name='New_Z', array=Z, format='F')\n",
    "c3 = fits.Column(name='ra', array=RA , format='F')\n",
    "c4 = fits.Column(name='dec', array=DEC, format='F')\n",
    "c5 = fits.Column(name='Luminosity', array=LL, format='F')\n",
    "\n",
    "Fatma = fits.BinTableHDU.from_columns([c1, c2, c3, c4,c5])\n",
    "Fatma.writeto('python.fits')\n"
   ]
  },
  {
   "cell_type": "code",
   "execution_count": 143,
   "metadata": {},
   "outputs": [
    {
     "name": "stdout",
     "output_type": "stream",
     "text": [
      "<Table length=2561>\n",
      "   name     dtype  n_bad\n",
      "---------- ------- -----\n",
      "      Name   str20     0\n",
      "     New_Z float64     0\n",
      "        ra float64     0\n",
      "       dec float64     0\n",
      "Luminosity float64   126\n"
     ]
    }
   ],
   "source": [
    "F=fits.open(\"python.fits\")\n",
    "FFF= Table(F[1].data)                     \n",
    "FFF.info()"
   ]
  },
  {
   "cell_type": "markdown",
   "metadata": {},
   "source": [
    "6. Fitting and Modelling"
   ]
  },
  {
   "cell_type": "code",
   "execution_count": 68,
   "metadata": {},
   "outputs": [],
   "source": [
    "from astropy.modeling import models, fitting"
   ]
  },
  {
   "cell_type": "code",
   "execution_count": 78,
   "metadata": {},
   "outputs": [
    {
     "data": {
      "text/plain": [
       "<matplotlib.legend.Legend at 0x228fcc33af0>"
      ]
     },
     "execution_count": 78,
     "metadata": {},
     "output_type": "execute_result"
    },
    {
     "data": {
      "image/png": "[encoded data removed]",
      "text/plain": [
       "<Figure size 576x360 with 1 Axes>"
      ]
     },
     "metadata": {
      "needs_background": "light"
     },
     "output_type": "display_data"
    }
   ],
   "source": [
    "import numpy as np\n",
    "import matplotlib.pyplot as plt\n",
    "from astropy.modeling import models, fitting\n",
    "\n",
    "# Generate fake data\n",
    "np.random.seed(0)\n",
    "x = np.linspace(-5., 5., 200)\n",
    "y = 3 * np.exp(-0.5 * (x - 1.3)**2 / 0.8**2)\n",
    "y += np.random.normal(0., 0.2, x.shape)\n",
    "\n",
    "# Fit the data using a box model.\n",
    "# Bounds are not really needed but included here to demonstrate usage.\n",
    "t_init = models.Trapezoid1D(amplitude=1., x_0=0., width=1., slope=0.5,\n",
    "                            bounds={\"x_0\": (-5., 5.)})\n",
    "fit_t = fitting.LevMarLSQFitter()\n",
    "t = fit_t(t_init, x, y)\n",
    "\n",
    "# Fit the data using a Gaussian\n",
    "g_init = models.Gaussian1D(amplitude=1., mean=0, stddev=1.)\n",
    "fit_g = fitting.LevMarLSQFitter()\n",
    "g = fit_g(g_init, x, y)\n",
    "\n",
    "# Plot the data with the best-fit model\n",
    "plt.figure(figsize=(8,5))\n",
    "plt.plot(x, y, 'ko')\n",
    "plt.plot(x, t(x), label='Trapezoid')\n",
    "plt.plot(x, g(x), label='Gaussian')\n",
    "plt.xlabel('Position')\n",
    "plt.ylabel('Flux')\n",
    "plt.legend(loc=2)"
   ]
  },
  {
   "cell_type": "code",
   "execution_count": null,
   "metadata": {},
   "outputs": [],
   "source": []
  },
  {
   "cell_type": "markdown",
   "metadata": {},
   "source": []
  }
 ],
 "metadata": {
  "kernelspec": {
   "display_name": "Python 3",
   "language": "python",
   "name": "python3"
  },
  "language_info": {
   "codemirror_mode": {
    "name": "ipython",
    "version": 3
   },
   "file_extension": ".py",
   "mimetype": "text/x-python",
   "name": "python",
   "nbconvert_exporter": "python",
   "pygments_lexer": "ipython3",
   "version": "3.8.3"
  }
 },
 "nbformat": 4,
 "nbformat_minor": 4
}
