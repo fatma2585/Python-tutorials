{
 "cells": [
  {
   "cell_type": "markdown",
   "metadata": {},
   "source": [
    "Section3"
   ]
  },
  {
   "cell_type": "markdown",
   "metadata": {},
   "source": [
    "1.Branching (if, else, ifelse)\n",
    "\n",
    "Is the abaility to make decisions & excute a differenct set of statments based on wether one or more conditions are true\n",
    "\n",
    "if codition:\n",
    "\n",
    "    statment1\n",
    "    statment2"
   ]
  },
  {
   "cell_type": "code",
   "execution_count": 1,
   "metadata": {},
   "outputs": [],
   "source": [
    "x=23\n",
    "\n",
    "if x % 2 ==0:\n",
    "    print(\"the given number {} is even\".format(x))"
   ]
  },
  {
   "cell_type": "markdown",
   "metadata": {},
   "source": [
    "if codition:\n",
    "\n",
    "    statment1\n",
    "    statment2\n",
    "else:\n",
    "\n",
    "    statment3\n",
    "    statment4       "
   ]
  },
  {
   "cell_type": "code",
   "execution_count": 2,
   "metadata": {},
   "outputs": [
    {
     "name": "stdout",
     "output_type": "stream",
     "text": [
      "the given number 23 is odd\n"
     ]
    }
   ],
   "source": [
    "x=23\n",
    "\n",
    "if x % 2 ==0:\n",
    "    print(\"the given number {} is even\".format(x))\n",
    "else:\n",
    "    print(\"the given number {} is odd\".format(x))"
   ]
  },
  {
   "cell_type": "markdown",
   "metadata": {},
   "source": [
    "if codition:\n",
    "\n",
    "    statment1\n",
    "elif condition:\n",
    "\n",
    "    statment2:\n",
    "elif condition:\n",
    "\n",
    "    statment3\n",
    "elif condition:\n",
    "\n",
    "    statment4"
   ]
  },
  {
   "cell_type": "code",
   "execution_count": 3,
   "metadata": {},
   "outputs": [
    {
     "name": "stdout",
     "output_type": "stream",
     "text": [
      "the given number 23 is dividiable by 1\n"
     ]
    }
   ],
   "source": [
    "x=23\n",
    "\n",
    "if x % 2 ==0:\n",
    "    print(\"the given number {} is dividiable by 2\".format(x))\n",
    "elif x % 3 ==0:\n",
    "    print(\"the given number {} is dividiable by 3\".format(x))\n",
    "elif x % 4 ==0:\n",
    "    print(\"the given number {} is dividiable by 4\".format(x))\n",
    "elif x % 5 ==0:\n",
    "    print(\"the given number {} is dividiable by 5\".format(x))\n",
    "elif x % 1 ==0:\n",
    "    print(\"the given number {} is dividiable by 1\".format(x))"
   ]
  },
  {
   "cell_type": "markdown",
   "metadata": {},
   "source": [
    "Python comparison operators \n",
    "\n",
    "x==y     equal,\n",
    "x!=y     not equal,\n",
    "x>y      Greater than,\n",
    "x<y      Less than,\n",
    "x>=y     Greater than  or equal,\n",
    "x<=y     Less than."
   ]
  },
  {
   "cell_type": "code",
   "execution_count": 3,
   "metadata": {},
   "outputs": [],
   "source": [
    "y=20\n",
    "x=23\n",
    "z=28\n",
    "if x<y:\n",
    "    print(\"x<=y\")"
   ]
  },
  {
   "cell_type": "markdown",
   "metadata": {},
   "source": [
    "Logical Operators:\n",
    "    \n",
    "and     Return ture if both stataments are true,\n",
    "or      Resturn true if one of the statments is true,\n",
    "not     Reverse the Result."
   ]
  },
  {
   "cell_type": "code",
   "execution_count": 4,
   "metadata": {},
   "outputs": [
    {
     "name": "stdout",
     "output_type": "stream",
     "text": [
      "1\n"
     ]
    }
   ],
   "source": [
    "if not( x>y and  y>z):\n",
    "    print(1)"
   ]
  },
  {
   "cell_type": "markdown",
   "metadata": {},
   "source": [
    "Non-Boolian conditions \n",
    " \"\",{},[]  falsy conditions "
   ]
  },
  {
   "cell_type": "code",
   "execution_count": 5,
   "metadata": {},
   "outputs": [
    {
     "name": "stdout",
     "output_type": "stream",
     "text": [
      "my calss\n"
     ]
    }
   ],
   "source": [
    "A405=[\"Safaa\",\"Alaa\", \"Fatma\",[\"Ahmad\", \"Ali\", \"MG\"], \"Huda\" ]\n",
    "if A405:\n",
    "    print(\"my calss\")"
   ]
  },
  {
   "cell_type": "code",
   "execution_count": 9,
   "metadata": {},
   "outputs": [],
   "source": [
    "k=[]\n",
    "if k:\n",
    "    print(\"my calss\")"
   ]
  },
  {
   "cell_type": "code",
   "execution_count": 10,
   "metadata": {},
   "outputs": [
    {
     "name": "stdout",
     "output_type": "stream",
     "text": [
      "14 is even\n",
      "14 is not devidable by 4\n",
      "None\n"
     ]
    }
   ],
   "source": [
    "xyz=14\n",
    "\n",
    "if xyz % 2 == 1:\n",
    "    print(\"{} is odd\".format(xyz))\n",
    "    if xyz % 3 ==0:\n",
    "        print(\"{} is devidable by 3\".format(xyz))\n",
    "    else:\n",
    "        print(\"{} is not devidable by 3\".format(xyz))\n",
    "else:\n",
    "    print(\"{} is even\".format(xyz))\n",
    "    if xyz % 4 ==0:\n",
    "        print(\"{} is devidable by 4\".format(xyz))\n",
    "    else:\n",
    "        print(print(\"{} is not devidable by 4\".format(xyz)))  "
   ]
  },
  {
   "cell_type": "code",
   "execution_count": 11,
   "metadata": {},
   "outputs": [],
   "source": [
    "import numpy as np"
   ]
  },
  {
   "cell_type": "markdown",
   "metadata": {},
   "source": [
    "2. Functions\n",
    "Is a reusable block of codes.\n",
    "\n",
    "Functions types in Python:\n",
    "1. built in functions (type,len,power)\n",
    "2. Functions we build (User defined functions)"
   ]
  },
  {
   "cell_type": "code",
   "execution_count": 43,
   "metadata": {},
   "outputs": [],
   "source": [
    "def A406 (k,m):\n",
    "    return k+m"
   ]
  },
  {
   "cell_type": "code",
   "execution_count": 46,
   "metadata": {},
   "outputs": [
    {
     "data": {
      "text/plain": [
       "5"
      ]
     },
     "execution_count": 46,
     "metadata": {},
     "output_type": "execute_result"
    }
   ],
   "source": [
    "A406(2,3)"
   ]
  },
  {
   "cell_type": "markdown",
   "metadata": {},
   "source": [
    "Make a function that sum integer values only:"
   ]
  },
  {
   "cell_type": "code",
   "execution_count": 195,
   "metadata": {},
   "outputs": [],
   "source": [
    "def AAA (a,b):\n",
    "    if a == int and b == int: \n",
    "        return(a+b)\n",
    "    else:\n",
    "        return(\"These numbers are not integers\")"
   ]
  },
  {
   "cell_type": "code",
   "execution_count": 196,
   "metadata": {},
   "outputs": [
    {
     "data": {
      "text/plain": [
       "'These numbers are not integers'"
      ]
     },
     "execution_count": 196,
     "metadata": {},
     "output_type": "execute_result"
    }
   ],
   "source": [
    "AAA(1.1,2)"
   ]
  },
  {
   "cell_type": "code",
   "execution_count": 197,
   "metadata": {},
   "outputs": [
    {
     "data": {
      "text/plain": [
       "'These numbers are not integers'"
      ]
     },
     "execution_count": 197,
     "metadata": {},
     "output_type": "execute_result"
    }
   ],
   "source": [
    "AAA(5.5,2)"
   ]
  },
  {
   "cell_type": "markdown",
   "metadata": {},
   "source": [
    "Make a function that define the prime numbers"
   ]
  },
  {
   "cell_type": "code",
   "execution_count": 180,
   "metadata": {},
   "outputs": [],
   "source": [
    "def prim (f):\n",
    "    if (f == 2 or f == 3) or (f % 2 != 0 and f % 3 != 0):\n",
    "        return(f ,\"is a prim number\")\n",
    "    else:\n",
    "        return(f , \"is a normal number\")"
   ]
  },
  {
   "cell_type": "code",
   "execution_count": 188,
   "metadata": {},
   "outputs": [
    {
     "data": {
      "text/plain": [
       "(121, 'is a prim number')"
      ]
     },
     "execution_count": 188,
     "metadata": {},
     "output_type": "execute_result"
    }
   ],
   "source": [
    "prim(121)"
   ]
  },
  {
   "cell_type": "code",
   "execution_count": 213,
   "metadata": {},
   "outputs": [],
   "source": [
    "def hello(x,y):\n",
    "    return(x+y)\n",
    "    "
   ]
  },
  {
   "cell_type": "code",
   "execution_count": 214,
   "metadata": {},
   "outputs": [
    {
     "data": {
      "text/plain": [
       "5"
      ]
     },
     "execution_count": 214,
     "metadata": {},
     "output_type": "execute_result"
    }
   ],
   "source": [
    "hello(2,3)"
   ]
  },
  {
   "cell_type": "code",
   "execution_count": 205,
   "metadata": {},
   "outputs": [
    {
     "data": {
      "text/plain": [
       "'Hello world'"
      ]
     },
     "execution_count": 205,
     "metadata": {},
     "output_type": "execute_result"
    }
   ],
   "source": [
    "hello()"
   ]
  },
  {
   "cell_type": "markdown",
   "metadata": {},
   "source": [
    "Make a function that determine the star residual object according to their current mass "
   ]
  },
  {
   "cell_type": "code",
   "execution_count": 216,
   "metadata": {},
   "outputs": [],
   "source": [
    "Msun=10e30\n",
    "def Lifecycle (m):\n",
    "    if  Msun <= m <= 3*Msun:\n",
    "        return(\"This mass= \", m ,\"will residual White dwarf and planetary nebula\")\n",
    "    elif 3*Msun < m < 8*Msun:\n",
    "        return(\"This mass= \", m ,\"will residual Neutron star and Supernova\")\n",
    "    elif 8*Msun < m:\n",
    "        return(\"This mass= \", m ,\"will residual Black hole and Supernova\")"
   ]
  },
  {
   "cell_type": "code",
   "execution_count": 217,
   "metadata": {},
   "outputs": [
    {
     "data": {
      "text/plain": [
       "('This mass= ',\n",
       " 4.999999999999999e+31,\n",
       " 'will residual Neutron star and Supernova')"
      ]
     },
     "execution_count": 217,
     "metadata": {},
     "output_type": "execute_result"
    }
   ],
   "source": [
    "k=5*Msun\n",
    "Lifecycle(k)"
   ]
  },
  {
   "cell_type": "markdown",
   "metadata": {},
   "source": [
    "3.Classes (Object Orianted Programming)"
   ]
  },
  {
   "cell_type": "code",
   "execution_count": 8,
   "metadata": {
    "tags": []
   },
   "outputs": [],
   "source": [
    "class name:\n",
    "    #class attributes \n",
    "    A406=[\"Eman\",\"Eslam\",\"Ali\"]\n",
    "    water= \"5 lITER\"\n",
    "    \n",
    "    #instance attributes  \n",
    "    def __init__(self,name, height, weight,age):\n",
    "                                self.N=name\n",
    "                                self.height=height\n",
    "                                self.weigth=weigth\n",
    "    #instance method\n",
    "    def optimal(self):\n",
    "        X=self.height/self.weight \n",
    "        \n",
    "    #class method \n",
    "    @classmethod\n",
    "    def resources(cls,water):\n",
    "        print(\"adult human needs\",cls.water)        "
   ]
  },
  {
   "cell_type": "code",
   "execution_count": 6,
   "metadata": {
    "tags": []
   },
   "outputs": [],
   "source": [
    "class name:\n",
    "    #instance attributes  \n",
    "    def __init__(self,name, height, weight,age):\n",
    "                                self.N=name\n",
    "                                self.height=height\n",
    "                                self.weigth=weigth\n",
    "    #instance method\n",
    "    def optimal(self):\n",
    "        X=self.height/self.weight "
   ]
  },
  {
   "cell_type": "markdown",
   "metadata": {},
   "source": [
    "Exoplanet_Example"
   ]
  },
  {
   "cell_type": "code",
   "execution_count": 29,
   "metadata": {
    "tags": []
   },
   "outputs": [
    {
     "data": {
      "text/plain": [
       "1.180563251686453e+21"
      ]
     },
     "execution_count": 29,
     "metadata": {},
     "output_type": "execute_result"
    }
   ],
   "source": [
    "import math\n",
    "\n",
    "class Exoplanet:\n",
    "    def __init__ (self, name , mass, radius, orbital_period):\n",
    "        self.name=name \n",
    "        self.M=mass\n",
    "        self.radius=radius\n",
    "        self.OP=orbital_period\n",
    "        \n",
    "    def density(self):\n",
    "        V=(4/3)*math.pi*self.radius**3\n",
    "        D=self.M/V\n",
    "        return D\n",
    "\n",
    "Planet1=Exoplanet(\"Jupiter\", 1.8*10**27, 71.4, 11.8)\n",
    "\n",
    "Planet1.density()  \n"
   ]
  },
  {
   "cell_type": "code",
   "execution_count": 30,
   "metadata": {
    "tags": []
   },
   "outputs": [
    {
     "data": {
      "text/plain": [
       "1.180563251686453e+21"
      ]
     },
     "execution_count": 30,
     "metadata": {},
     "output_type": "execute_result"
    }
   ],
   "source": [
    "Exoplanet.density(Planet1)   "
   ]
  },
  {
   "cell_type": "code",
   "execution_count": null,
   "metadata": {},
   "outputs": [],
   "source": []
  }
 ],
 "metadata": {
  "kernelspec": {
   "display_name": "Python 3 (ipykernel)",
   "language": "python",
   "name": "python3"
  },
  "language_info": {
   "codemirror_mode": {
    "name": "ipython",
    "version": 3
   },
   "file_extension": ".py",
   "mimetype": "text/x-python",
   "name": "python",
   "nbconvert_exporter": "python",
   "pygments_lexer": "ipython3",
   "version": "3.11.3"
  }
 },
 "nbformat": 4,
 "nbformat_minor": 4
}
