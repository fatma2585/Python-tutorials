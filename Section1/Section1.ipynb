{
 "cells": [
  {
   "cell_type": "markdown",
   "metadata": {},
   "source": [
    "Section3"
   ]
  },
  {
   "cell_type": "markdown",
   "metadata": {},
   "source": [
    "1. Stings\n",
    "\n",
    "Are used to represent text, they must be surounded by single quote'' or double qoutes\"\""
   ]
  },
  {
   "cell_type": "code",
   "execution_count": 2,
   "metadata": {},
   "outputs": [
    {
     "name": "stdout",
     "output_type": "stream",
     "text": [
      "YousefMohammadSalam\n"
     ]
    }
   ],
   "source": [
    "x='YousefMohammadSalam'\n",
    "print(x)"
   ]
  },
  {
   "cell_type": "code",
   "execution_count": 3,
   "metadata": {},
   "outputs": [
    {
     "data": {
      "text/plain": [
       "'o'"
      ]
     },
     "execution_count": 3,
     "metadata": {},
     "output_type": "execute_result"
    }
   ],
   "source": [
    "x[1]"
   ]
  },
  {
   "cell_type": "code",
   "execution_count": 4,
   "metadata": {},
   "outputs": [
    {
     "data": {
      "text/plain": [
       "True"
      ]
     },
     "execution_count": 4,
     "metadata": {},
     "output_type": "execute_result"
    }
   ],
   "source": [
    "\"You\" in x"
   ]
  },
  {
   "cell_type": "code",
   "execution_count": 5,
   "metadata": {},
   "outputs": [
    {
     "data": {
      "text/plain": [
       "'You'"
      ]
     },
     "execution_count": 5,
     "metadata": {},
     "output_type": "execute_result"
    }
   ],
   "source": [
    "#slicing \n",
    "x[0:3]"
   ]
  },
  {
   "cell_type": "code",
   "execution_count": 6,
   "metadata": {},
   "outputs": [
    {
     "name": "stdout",
     "output_type": "stream",
     "text": [
      "fatma\n",
      "FATMA\n",
      "Fatma\n"
     ]
    }
   ],
   "source": [
    "#lower, Upper, capitalize\n",
    "f=\"fAtmA\"\n",
    "print(f.lower())\n",
    "print(f.upper())\n",
    "print(f.capitalize())"
   ]
  },
  {
   "cell_type": "code",
   "execution_count": 8,
   "metadata": {},
   "outputs": [
    {
     "name": "stdout",
     "output_type": "stream",
     "text": [
      "friday\n"
     ]
    }
   ],
   "source": [
    "today=\"friday\"\n",
    "print(today)"
   ]
  },
  {
   "cell_type": "code",
   "execution_count": 9,
   "metadata": {},
   "outputs": [
    {
     "name": "stdout",
     "output_type": "stream",
     "text": [
      "Saturday\n"
     ]
    }
   ],
   "source": [
    "today=\"Saturday\"\n",
    "print(today)"
   ]
  },
  {
   "cell_type": "code",
   "execution_count": 12,
   "metadata": {},
   "outputs": [
    {
     "name": "stdout",
     "output_type": "stream",
     "text": [
      "Sunday\n"
     ]
    }
   ],
   "source": [
    "today=\"Sunday\"\n",
    "today.replace(\"Sun\",\"Fri\")\n",
    "print(today)"
   ]
  },
  {
   "cell_type": "code",
   "execution_count": 13,
   "metadata": {},
   "outputs": [],
   "source": [
    "Name='Ali'       #decliration of the string "
   ]
  },
  {
   "cell_type": "code",
   "execution_count": 14,
   "metadata": {},
   "outputs": [
    {
     "data": {
      "text/plain": [
       "True"
      ]
     },
     "execution_count": 14,
     "metadata": {},
     "output_type": "execute_result"
    }
   ],
   "source": [
    "Name == \"Ali\"   # Compare two strings"
   ]
  },
  {
   "cell_type": "code",
   "execution_count": 15,
   "metadata": {},
   "outputs": [
    {
     "data": {
      "text/plain": [
       "True"
      ]
     },
     "execution_count": 15,
     "metadata": {},
     "output_type": "execute_result"
    }
   ],
   "source": [
    "Name != \"Alaa\"    #not equal"
   ]
  },
  {
   "cell_type": "code",
   "execution_count": null,
   "metadata": {},
   "outputs": [],
   "source": []
  },
  {
   "cell_type": "markdown",
   "metadata": {},
   "source": [
    "2.Lists\n",
    "\n",
    "Is an order collection of values. Lists can hold values of all data types. Support operations to add ,remove ,change values "
   ]
  },
  {
   "cell_type": "code",
   "execution_count": 16,
   "metadata": {},
   "outputs": [],
   "source": [
    "A406=[\"python\", 5, 2.5, True , 3>=5, 'Aya' ]"
   ]
  },
  {
   "cell_type": "code",
   "execution_count": 17,
   "metadata": {},
   "outputs": [
    {
     "data": {
      "text/plain": [
       "'Aya'"
      ]
     },
     "execution_count": 17,
     "metadata": {},
     "output_type": "execute_result"
    }
   ],
   "source": [
    "A406[-1]"
   ]
  },
  {
   "cell_type": "code",
   "execution_count": 18,
   "metadata": {},
   "outputs": [
    {
     "data": {
      "text/plain": [
       "['Yahia', ['Y. Salah', 'Y. Mohammad']]"
      ]
     },
     "execution_count": 18,
     "metadata": {},
     "output_type": "execute_result"
    }
   ],
   "source": [
    "A405=[\"Aya\",\"Nada\", \"Yahia\",[\"Y. Salah\", \"Y. Mohammad\"] ,\"MG\" ]\n",
    "A405[2:4]"
   ]
  },
  {
   "cell_type": "code",
   "execution_count": 19,
   "metadata": {},
   "outputs": [
    {
     "name": "stdout",
     "output_type": "stream",
     "text": [
      "['Aya', 'Nada', 'Yahia', ['Y. Salah', 'Y. Mohammad'], 'Mahmoud Gamal']\n"
     ]
    }
   ],
   "source": [
    "#Modifing functions\n",
    "A405[4]=\"Mahmoud Gamal\"                   # modify certen element\n",
    "print(A405)"
   ]
  },
  {
   "cell_type": "code",
   "execution_count": 20,
   "metadata": {},
   "outputs": [
    {
     "name": "stdout",
     "output_type": "stream",
     "text": [
      "['Aya', 'Nada', 'Yahia', ['Y. Salah', 'Y. Mohammad'], 'Mahmoud Gamal', ['Abanob', 'Omar']]\n"
     ]
    }
   ],
   "source": [
    "A405.append([\"Abanob\",\"Omar\"])         # Add element or list\n",
    "print(A405) "
   ]
  },
  {
   "cell_type": "code",
   "execution_count": 21,
   "metadata": {},
   "outputs": [],
   "source": [
    "A405.insert(3,\"Dr. Fatma\")               #insert element             "
   ]
  },
  {
   "cell_type": "code",
   "execution_count": 22,
   "metadata": {},
   "outputs": [
    {
     "name": "stdout",
     "output_type": "stream",
     "text": [
      "['Aya', 'Nada', 'Yahia', ['Y. Salah', 'Y. Mohammad'], 'Mahmoud Gamal', ['Abanob', 'Omar']]\n"
     ]
    }
   ],
   "source": [
    "A405.remove(\"Dr. Fatma\")                #remove element(starts from index0) remove the first element with the given value(sting, int,float)\n",
    "print(A405)"
   ]
  },
  {
   "cell_type": "code",
   "execution_count": 23,
   "metadata": {},
   "outputs": [
    {
     "name": "stdout",
     "output_type": "stream",
     "text": [
      "['Aya', 'Yahia', ['Y. Salah', 'Y. Mohammad'], 'Mahmoud Gamal', ['Abanob', 'Omar']]\n"
     ]
    }
   ],
   "source": [
    "A405.pop(1)                            # remove the element of the given index without checking its value\n",
    "print(A405)"
   ]
  },
  {
   "cell_type": "code",
   "execution_count": 24,
   "metadata": {},
   "outputs": [
    {
     "data": {
      "text/plain": [
       "False"
      ]
     },
     "execution_count": 24,
     "metadata": {},
     "output_type": "execute_result"
    }
   ],
   "source": [
    "\"Ayaa\" in A405"
   ]
  },
  {
   "cell_type": "code",
   "execution_count": 25,
   "metadata": {},
   "outputs": [],
   "source": [
    "Advisors=['Prof. Alaa', \"Prof. Saleh\" ]"
   ]
  },
  {
   "cell_type": "code",
   "execution_count": 26,
   "metadata": {},
   "outputs": [
    {
     "name": "stdout",
     "output_type": "stream",
     "text": [
      "['Aya', 'Yahia', ['Y. Salah', 'Y. Mohammad'], 'Mahmoud Gamal', ['Abanob', 'Omar'], 'Prof. Alaa', 'Prof. Saleh']\n"
     ]
    }
   ],
   "source": [
    "A405final= A405+Advisors\n",
    "print(A405final)"
   ]
  },
  {
   "cell_type": "markdown",
   "metadata": {},
   "source": [
    "Tuple: (Solid list)\n",
    "\n",
    "Is an ordered colliction of Data takes any typr of data As list, However, It is not possible to Add, Remove, Modify values \n"
   ]
  },
  {
   "cell_type": "code",
   "execution_count": null,
   "metadata": {},
   "outputs": [],
   "source": []
  },
  {
   "cell_type": "code",
   "execution_count": null,
   "metadata": {},
   "outputs": [],
   "source": []
  },
  {
   "cell_type": "markdown",
   "metadata": {},
   "source": [
    "3.Dictionary\n",
    "\n",
    "Is an unordered collection of items. \n",
    "Each item stored in a dictionary has a key & value.\n",
    "Key are used to retrieve values from the dictionary. \n",
    "Has type Dict.\n"
   ]
  },
  {
   "cell_type": "code",
   "execution_count": 27,
   "metadata": {},
   "outputs": [
    {
     "name": "stdout",
     "output_type": "stream",
     "text": [
      "{'name': 'Nada', 'gender': 'female', 'age': 20, 'Department': 'Astro/Phy'}\n"
     ]
    }
   ],
   "source": [
    "student2={'name':\"Nada\", \"gender\":\"female\", \"age\":20, \"Department\": \"Astro/Phy\"}\n",
    "student3={'name':\"Aya\", \"gender\":\"female\", \"age\":20, \"Department\": \"Astro/Phy\"}\n",
    "student4={'name':\"Yousef\", \"gender\":\"male\", \"age\":20, \"Department\": \"Astro/Phy\"}\n",
    "print(student2)"
   ]
  },
  {
   "cell_type": "code",
   "execution_count": 28,
   "metadata": {},
   "outputs": [
    {
     "name": "stdout",
     "output_type": "stream",
     "text": [
      "['Nada', 'female', '20', 'Astro/Phy']\n"
     ]
    }
   ],
   "source": [
    "student22=[\"Nada\", \"female\", \"20\", \"Astro/Phy\"]\n",
    "print(student22)"
   ]
  },
  {
   "cell_type": "code",
   "execution_count": 29,
   "metadata": {},
   "outputs": [
    {
     "name": "stdout",
     "output_type": "stream",
     "text": [
      "{'name': 'Nada', 'gender': 'female', 'age': 20, 'Department': 'Astro/Phy', 'graduation': 2022}\n"
     ]
    }
   ],
   "source": [
    "student2[\"graduation\"]=2022\n",
    "print(student2)"
   ]
  },
  {
   "cell_type": "code",
   "execution_count": 30,
   "metadata": {},
   "outputs": [
    {
     "data": {
      "text/plain": [
       "2022"
      ]
     },
     "execution_count": 30,
     "metadata": {},
     "output_type": "execute_result"
    }
   ],
   "source": [
    "student2.get(\"graduation\")"
   ]
  },
  {
   "cell_type": "code",
   "execution_count": 31,
   "metadata": {},
   "outputs": [
    {
     "data": {
      "text/plain": [
       "False"
      ]
     },
     "execution_count": 31,
     "metadata": {},
     "output_type": "execute_result"
    }
   ],
   "source": [
    "\"graduations\" in student2"
   ]
  },
  {
   "cell_type": "code",
   "execution_count": 32,
   "metadata": {},
   "outputs": [
    {
     "name": "stdout",
     "output_type": "stream",
     "text": [
      "2002\n"
     ]
    }
   ],
   "source": [
    "Now= student2.get(\"graduation\")- student2.get(\"age\")\n",
    "print(Now)"
   ]
  },
  {
   "cell_type": "code",
   "execution_count": 33,
   "metadata": {},
   "outputs": [
    {
     "name": "stdout",
     "output_type": "stream",
     "text": [
      "{'name': 'Nada', 'gender': 'female', 'age': 20, 'Department': 'Astro/Phy', 'graduation': 2022, 'birthyear': 2002}\n"
     ]
    }
   ],
   "source": [
    "student2[\"birthyear\"]=Now\n",
    "print(student2)"
   ]
  },
  {
   "cell_type": "code",
   "execution_count": 36,
   "metadata": {},
   "outputs": [
    {
     "name": "stdout",
     "output_type": "stream",
     "text": [
      "[{'name': 'Nada', 'gender': 'female', 'age': 20, 'Department': 'Astro/Phy', 'graduation': 2022, 'birthyear': 2002}, {'name': 'Aya', 'gender': 'female', 'age': 20, 'Department': 'Astro/Phy'}, {'name': 'Yousef', 'gender': 'male', 'age': 20, 'Department': 'Astro/Phy'}]\n"
     ]
    }
   ],
   "source": [
    "students=[student2,student3,student4]\n",
    "print(sudents)"
   ]
  },
  {
   "cell_type": "code",
   "execution_count": 42,
   "metadata": {},
   "outputs": [
    {
     "data": {
      "text/plain": [
       "'Aya'"
      ]
     },
     "execution_count": 42,
     "metadata": {},
     "output_type": "execute_result"
    }
   ],
   "source": [
    "students[1].get(\"name\")"
   ]
  }
 ],
 "metadata": {
  "kernelspec": {
   "display_name": "Python 3",
   "language": "python",
   "name": "python3"
  },
  "language_info": {
   "codemirror_mode": {
    "name": "ipython",
    "version": 3
   },
   "file_extension": ".py",
   "mimetype": "text/x-python",
   "name": "python",
   "nbconvert_exporter": "python",
   "pygments_lexer": "ipython3",
   "version": "3.8.3"
  }
 },
 "nbformat": 4,
 "nbformat_minor": 4
}
